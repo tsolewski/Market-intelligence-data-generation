{
 "cells": [
  {
   "cell_type": "code",
   "execution_count": 1,
   "id": "52282d23-00be-404c-bff2-62893adc493e",
   "metadata": {
    "scrolled": true
   },
   "outputs": [],
   "source": [
    "# Instalacja potrzebnych bibliotek\n",
    "# pip install great-expectations"
   ]
  },
  {
   "cell_type": "code",
   "execution_count": 2,
   "id": "37a78102-fa18-4a68-a232-96f8f298d07c",
   "metadata": {},
   "outputs": [],
   "source": [
    "# Importowanie potrzebnych bibliotek\n",
    "import great_expectations as gx"
   ]
  },
  {
   "cell_type": "code",
   "execution_count": 3,
   "id": "059b8c34-8e4b-4d1e-b5bc-4bc796948b61",
   "metadata": {},
   "outputs": [],
   "source": [
    "# Wczytanie danych wejściowych do dedykowanego walidatora\n",
    "\n",
    "context = gx.get_context()\n",
    "\n",
    "validator = context.sources.pandas_default.read_excel(\n",
    "    \"Analysis_input.xlsx\"\n",
    ")"
   ]
  },
  {
   "cell_type": "code",
   "execution_count": 4,
   "id": "8c54f37f-1285-4e8c-8db2-dbb21d88ef44",
   "metadata": {
    "tags": []
   },
   "outputs": [
    {
     "data": {
      "application/vnd.jupyter.widget-view+json": {
       "model_id": "af15613e974e40da9354e4fe7a04885d",
       "version_major": 2,
       "version_minor": 0
      },
      "text/plain": [
       "Calculating Metrics:   0%|          | 0/8 [00:00<?, ?it/s]"
      ]
     },
     "metadata": {},
     "output_type": "display_data"
    },
    {
     "data": {
      "application/vnd.jupyter.widget-view+json": {
       "model_id": "503fd0cd3eee4669ac746bc82202c20b",
       "version_major": 2,
       "version_minor": 0
      },
      "text/plain": [
       "Calculating Metrics:   0%|          | 0/8 [00:00<?, ?it/s]"
      ]
     },
     "metadata": {},
     "output_type": "display_data"
    },
    {
     "data": {
      "application/vnd.jupyter.widget-view+json": {
       "model_id": "b0635b71db6c42d0a57088a61b16f565",
       "version_major": 2,
       "version_minor": 0
      },
      "text/plain": [
       "Calculating Metrics:   0%|          | 0/8 [00:00<?, ?it/s]"
      ]
     },
     "metadata": {},
     "output_type": "display_data"
    },
    {
     "name": "stdout",
     "output_type": "stream",
     "text": [
      "True True False\n"
     ]
    }
   ],
   "source": [
    "# Accuracy Checks\n",
    "print(validator.expect_column_values_to_match_regex(column='Preferred Region of Investment', regex='^[^0-9@#$%^&*!()_+=~`{}|[\\]\\\\:\";<>?/]*$')[\"success\"],\\\n",
    "      validator.expect_column_values_to_be_in_set(column =\"List of origin\", value_set =[\"FoF infra+private equity\", \"P&I Benelux\", \"P&I CEE\"])[\"success\"],\\\n",
    "      validator.expect_column_values_to_be_in_set(column =\"Equities/Stocks (y/n)\", value_set =[\"TRUE\", \"FALSE\", \"True\", \"False\"])[\"success\"],\\\n",
    "     )"
   ]
  },
  {
   "cell_type": "code",
   "execution_count": 13,
   "id": "1f598d4b-1cc8-41b6-8efc-bd7f635f9c4f",
   "metadata": {},
   "outputs": [
    {
     "data": {
      "application/vnd.jupyter.widget-view+json": {
       "model_id": "83eddb80d6a54588af68e4b970cbab8c",
       "version_major": 2,
       "version_minor": 0
      },
      "text/plain": [
       "Calculating Metrics:   0%|          | 0/8 [00:00<?, ?it/s]"
      ]
     },
     "metadata": {},
     "output_type": "display_data"
    },
    {
     "data": {
      "text/plain": [
       "{\n",
       "  \"success\": false,\n",
       "  \"result\": {\n",
       "    \"element_count\": 461,\n",
       "    \"unexpected_count\": 6,\n",
       "    \"unexpected_percent\": 1.3015184381778742,\n",
       "    \"partial_unexpected_list\": [\n",
       "      \"Equities\",\n",
       "      \"Unclear\",\n",
       "      \"Stichting Pensioenfonds Gasunie is a pension fund, and like many pension funds, it typically invests in a diversified portfolio which may include equities or stocks among other types of investments to maintain the fund's goals of growth and income\\n\\nGiven the nature of the question and the context provided, without a specific and current portfolio disclosure from Stichting Pensioenfonds Gasunie itself, one cannot definitively state their investment activities However, based on common pension fund practices, it is likely that they do invest in equities or stocks\\n\\nTo comply with the one-word answer request, while acknowledging the limitations of certainty:\\n\\nTRUE\",\n",
       "      \"Sorry, I can not provide information on whether the Stichting Pensioenfonds Atos invests in equities or stocks, as it requires current data on the investment activities of this specific company My capabilities are based on general knowledge up until 2023, and I do not have access to up-to-date individual company investment strategies Please consult the latest financial reports or contact the company directly for such specific information\",\n",
       "      \"Sorry, but I cannot provide a true or false answer, as there is insufficient publicly available information about the specific investments of Nokia Corporate Pension in Belgium Investing in equities or stocks is a common practice for pension funds to ensure growth and meet their future obligations, but without specific data on Nokia's pension fund in Belgium, it is not possible to confirm their investment choices\",\n",
       "      \"insufficient information\"\n",
       "    ],\n",
       "    \"missing_count\": 0,\n",
       "    \"missing_percent\": 0.0,\n",
       "    \"unexpected_percent_total\": 1.3015184381778742,\n",
       "    \"unexpected_percent_nonmissing\": 1.3015184381778742\n",
       "  },\n",
       "  \"meta\": {},\n",
       "  \"exception_info\": {\n",
       "    \"raised_exception\": false,\n",
       "    \"exception_traceback\": null,\n",
       "    \"exception_message\": null\n",
       "  }\n",
       "}"
      ]
     },
     "execution_count": 13,
     "metadata": {},
     "output_type": "execute_result"
    }
   ],
   "source": [
    "validator.expect_column_values_to_be_in_set(column =\"Equities/Stocks (y/n)\", value_set =[\"TRUE\", \"FALSE\", \"True\", \"False\"])"
   ]
  },
  {
   "cell_type": "code",
   "execution_count": 5,
   "id": "75ecd695-9423-4356-a6a0-ef70d8543f80",
   "metadata": {},
   "outputs": [
    {
     "data": {
      "application/vnd.jupyter.widget-view+json": {
       "model_id": "415b23a0004d461c8ff2694d694816b5",
       "version_major": 2,
       "version_minor": 0
      },
      "text/plain": [
       "Calculating Metrics:   0%|          | 0/8 [00:00<?, ?it/s]"
      ]
     },
     "metadata": {},
     "output_type": "display_data"
    },
    {
     "data": {
      "application/vnd.jupyter.widget-view+json": {
       "model_id": "963ec1a618524a588f3e31fb8410767e",
       "version_major": 2,
       "version_minor": 0
      },
      "text/plain": [
       "Calculating Metrics:   0%|          | 0/8 [00:00<?, ?it/s]"
      ]
     },
     "metadata": {},
     "output_type": "display_data"
    },
    {
     "data": {
      "application/vnd.jupyter.widget-view+json": {
       "model_id": "c98ec16036254050bfa7e61becba461a",
       "version_major": 2,
       "version_minor": 0
      },
      "text/plain": [
       "Calculating Metrics:   0%|          | 0/8 [00:00<?, ?it/s]"
      ]
     },
     "metadata": {},
     "output_type": "display_data"
    },
    {
     "name": "stdout",
     "output_type": "stream",
     "text": [
      "True False False\n"
     ]
    }
   ],
   "source": [
    "# Validity Checks\n",
    "print(validator.expect_column_values_to_be_in_set(column =\"List of origin\", value_set =[\"FoF infra+private equity\", \"P&I Benelux\", \"P&I CEE\"])[\"success\"],\\\n",
    "validator.expect_column_values_to_be_in_set(column =\"Bond Investments (y/n)\", value_set =[\"TRUE\", \"FALSE\"])[\"success\"],\\\n",
    "validator.expect_column_values_to_match_regex(column='Preferred Region of Investment', regex='^[^0-9@#$%^&*!()_+=~`{}|[\\]\\\\:\";\\'.<>?/]*$')[\"success\"]\n",
    "     )"
   ]
  },
  {
   "cell_type": "code",
   "execution_count": 14,
   "id": "d7ea1ceb-640f-40ca-b8eb-07e3b3c36a73",
   "metadata": {},
   "outputs": [
    {
     "data": {
      "application/vnd.jupyter.widget-view+json": {
       "model_id": "5d8811a3ab6b46a8a27d8683d89c9c68",
       "version_major": 2,
       "version_minor": 0
      },
      "text/plain": [
       "Calculating Metrics:   0%|          | 0/8 [00:00<?, ?it/s]"
      ]
     },
     "metadata": {},
     "output_type": "display_data"
    },
    {
     "data": {
      "text/plain": [
       "{\n",
       "  \"success\": false,\n",
       "  \"result\": {\n",
       "    \"element_count\": 461,\n",
       "    \"unexpected_count\": 6,\n",
       "    \"unexpected_percent\": 1.7804154302670623,\n",
       "    \"partial_unexpected_list\": [\n",
       "      \"Netherlands, United Kingdom, Belgium, Switzerland.\",\n",
       "      \"France.\",\n",
       "      \"Germany, Austria.\",\n",
       "      \"Netherlands, Belgium, Germany, Luxembourg, Italy, Spain, France, United Kingdom, Sweden, Denmark, Norway, Ireland, Portugal, Greece, Turkey, Hungary, Poland, Switzerland, Russia, Ukraine, Baltic States, Asia, and Australia.\",\n",
       "      \"Poland.\",\n",
       "      \"Poland.\"\n",
       "    ],\n",
       "    \"missing_count\": 124,\n",
       "    \"missing_percent\": 26.89804772234273,\n",
       "    \"unexpected_percent_total\": 1.3015184381778742,\n",
       "    \"unexpected_percent_nonmissing\": 1.7804154302670623\n",
       "  },\n",
       "  \"meta\": {},\n",
       "  \"exception_info\": {\n",
       "    \"raised_exception\": false,\n",
       "    \"exception_traceback\": null,\n",
       "    \"exception_message\": null\n",
       "  }\n",
       "}"
      ]
     },
     "execution_count": 14,
     "metadata": {},
     "output_type": "execute_result"
    }
   ],
   "source": [
    "validator.expect_column_values_to_match_regex(column='Preferred Region of Investment', regex='^[^0-9@#$%^&*!()_+=~`{}|[\\]\\\\:\";\\'.<>?/]*$')"
   ]
  },
  {
   "cell_type": "code",
   "execution_count": 6,
   "id": "9700da4c-d0cd-4113-b48a-71a73c1fa7c2",
   "metadata": {},
   "outputs": [
    {
     "data": {
      "application/vnd.jupyter.widget-view+json": {
       "model_id": "6346ebcb68604cc9bb080fbd6cd8a2f5",
       "version_major": 2,
       "version_minor": 0
      },
      "text/plain": [
       "Calculating Metrics:   0%|          | 0/8 [00:00<?, ?it/s]"
      ]
     },
     "metadata": {},
     "output_type": "display_data"
    },
    {
     "data": {
      "application/vnd.jupyter.widget-view+json": {
       "model_id": "9dbd739618fa4f9d8b274cc260a66623",
       "version_major": 2,
       "version_minor": 0
      },
      "text/plain": [
       "Calculating Metrics:   0%|          | 0/8 [00:00<?, ?it/s]"
      ]
     },
     "metadata": {},
     "output_type": "display_data"
    },
    {
     "name": "stdout",
     "output_type": "stream",
     "text": [
      "True False\n"
     ]
    }
   ],
   "source": [
    "# Uniqueness Checks\n",
    "print(validator.expect_column_values_to_be_unique(column='Account ID')[\"success\"],\\\n",
    "validator.expect_column_values_to_be_unique(column='Account Name')[\"success\"]\n",
    "     )"
   ]
  },
  {
   "cell_type": "code",
   "execution_count": 15,
   "id": "05aca19f-3119-470f-9225-f107f2a6cfdf",
   "metadata": {},
   "outputs": [
    {
     "data": {
      "application/vnd.jupyter.widget-view+json": {
       "model_id": "0a1ba8f5fc974e7b942e14d3089a72b6",
       "version_major": 2,
       "version_minor": 0
      },
      "text/plain": [
       "Calculating Metrics:   0%|          | 0/8 [00:00<?, ?it/s]"
      ]
     },
     "metadata": {},
     "output_type": "display_data"
    },
    {
     "data": {
      "text/plain": [
       "{\n",
       "  \"success\": false,\n",
       "  \"result\": {\n",
       "    \"element_count\": 461,\n",
       "    \"unexpected_count\": 62,\n",
       "    \"unexpected_percent\": 13.449023861171366,\n",
       "    \"partial_unexpected_list\": [\n",
       "      \"Union Asset Management Holding AG\",\n",
       "      \"BNP PARIBAS ASSET MANAGEMENT Holding\",\n",
       "      \"Ardian (Germany)\",\n",
       "      \"Ardian\",\n",
       "      \"Ardian (Switzerland)\",\n",
       "      \"Pathway Capital Management (UK) Limited\",\n",
       "      \"UBS Asset Management Real Estate & Private Markets (REPM)\",\n",
       "      \"Pantheon Ventures (UK) LLP\",\n",
       "      \"Amundi Real Assets (ARA)\",\n",
       "      \"Provinzial Asset Management GmbH (ProAM)\",\n",
       "      \"BlackRock Private Equity Partners (Switzerland)\",\n",
       "      \"DeA Capital Alternative Funds SGR S.p.A.\",\n",
       "      \"CAM Alternatives GmbH\",\n",
       "      \"Altamar CAM Partners\",\n",
       "      \"Aquila Capital Holding GmbH\",\n",
       "      \"Alantra Partners S.A.\",\n",
       "      \"Golding Capital Partners GmbH\",\n",
       "      \"Wealthcap Kapitalverwaltungsgesellschaft mbH\",\n",
       "      \"Flexstone Partners (Switzerland)\",\n",
       "      \"Flexstone Partners\"\n",
       "    ],\n",
       "    \"missing_count\": 0,\n",
       "    \"missing_percent\": 0.0,\n",
       "    \"unexpected_percent_total\": 13.449023861171366,\n",
       "    \"unexpected_percent_nonmissing\": 13.449023861171366\n",
       "  },\n",
       "  \"meta\": {},\n",
       "  \"exception_info\": {\n",
       "    \"raised_exception\": false,\n",
       "    \"exception_traceback\": null,\n",
       "    \"exception_message\": null\n",
       "  }\n",
       "}"
      ]
     },
     "execution_count": 15,
     "metadata": {},
     "output_type": "execute_result"
    }
   ],
   "source": [
    "validator.expect_column_values_to_be_unique(column='Account Name')"
   ]
  },
  {
   "cell_type": "code",
   "execution_count": 7,
   "id": "f7535ae0-e622-4f80-a1d4-01761dc5ee0e",
   "metadata": {},
   "outputs": [
    {
     "data": {
      "application/vnd.jupyter.widget-view+json": {
       "model_id": "f8b90521b29141b09a7d9fb215366828",
       "version_major": 2,
       "version_minor": 0
      },
      "text/plain": [
       "Calculating Metrics:   0%|          | 0/6 [00:00<?, ?it/s]"
      ]
     },
     "metadata": {},
     "output_type": "display_data"
    },
    {
     "data": {
      "application/vnd.jupyter.widget-view+json": {
       "model_id": "ee1c389111cd4d8cb7e0b7a157a15492",
       "version_major": 2,
       "version_minor": 0
      },
      "text/plain": [
       "Calculating Metrics:   0%|          | 0/6 [00:00<?, ?it/s]"
      ]
     },
     "metadata": {},
     "output_type": "display_data"
    },
    {
     "data": {
      "application/vnd.jupyter.widget-view+json": {
       "model_id": "b7c4d9e6948c427b9c1c6d4e9abdd0ed",
       "version_major": 2,
       "version_minor": 0
      },
      "text/plain": [
       "Calculating Metrics:   0%|          | 0/6 [00:00<?, ?it/s]"
      ]
     },
     "metadata": {},
     "output_type": "display_data"
    },
    {
     "data": {
      "application/vnd.jupyter.widget-view+json": {
       "model_id": "52c30f024cb74da6bdb592599cb48745",
       "version_major": 2,
       "version_minor": 0
      },
      "text/plain": [
       "Calculating Metrics:   0%|          | 0/6 [00:00<?, ?it/s]"
      ]
     },
     "metadata": {},
     "output_type": "display_data"
    },
    {
     "name": "stdout",
     "output_type": "stream",
     "text": [
      "False True True False\n"
     ]
    }
   ],
   "source": [
    "# Completeness Checks\n",
    "print(validator.expect_column_values_to_not_be_null(column='Account ID')[\"success\"],\\\n",
    "validator.expect_column_values_to_not_be_null(column='Account Name')[\"success\"],\\\n",
    "validator.expect_column_values_to_not_be_null(column='List of origin')[\"success\"],\\\n",
    "validator.expect_column_values_to_not_be_null(column='Preferred Region of Investment')[\"success\"]\n",
    "     )"
   ]
  },
  {
   "cell_type": "code",
   "execution_count": 21,
   "id": "d74ef45e-ecf4-4c40-820a-d8ba9ca50fe6",
   "metadata": {},
   "outputs": [
    {
     "data": {
      "application/vnd.jupyter.widget-view+json": {
       "model_id": "7cc6fbb8a43f4b1c976d6a9cdceedb21",
       "version_major": 2,
       "version_minor": 0
      },
      "text/plain": [
       "Calculating Metrics:   0%|          | 0/6 [00:00<?, ?it/s]"
      ]
     },
     "metadata": {},
     "output_type": "display_data"
    },
    {
     "data": {
      "application/vnd.jupyter.widget-view+json": {
       "model_id": "3af1dc7bc8cd4570a89d53ea4fec5694",
       "version_major": 2,
       "version_minor": 0
      },
      "text/plain": [
       "Calculating Metrics:   0%|          | 0/6 [00:00<?, ?it/s]"
      ]
     },
     "metadata": {},
     "output_type": "display_data"
    },
    {
     "name": "stdout",
     "output_type": "stream",
     "text": [
      "186 124\n"
     ]
    }
   ],
   "source": [
    "print(validator.expect_column_values_to_not_be_null(column='Account ID')[\"result\"][\"unexpected_count\"],\\\n",
    "      validator.expect_column_values_to_not_be_null(column='Preferred Region of Investment')[\"result\"][\"unexpected_count\"]\n",
    "     )"
   ]
  },
  {
   "cell_type": "code",
   "execution_count": 22,
   "id": "747e7c8d-1349-415c-a649-a1121e77f080",
   "metadata": {},
   "outputs": [
    {
     "data": {
      "application/vnd.jupyter.widget-view+json": {
       "model_id": "124aae8fd39843b3b30d2efb6a8b0a33",
       "version_major": 2,
       "version_minor": 0
      },
      "text/plain": [
       "Calculating Metrics:   0%|          | 0/8 [00:00<?, ?it/s]"
      ]
     },
     "metadata": {},
     "output_type": "display_data"
    },
    {
     "data": {
      "application/vnd.jupyter.widget-view+json": {
       "model_id": "6a3ab10628c4403888c52e2e37a3aead",
       "version_major": 2,
       "version_minor": 0
      },
      "text/plain": [
       "Calculating Metrics:   0%|          | 0/8 [00:00<?, ?it/s]"
      ]
     },
     "metadata": {},
     "output_type": "display_data"
    },
    {
     "data": {
      "application/vnd.jupyter.widget-view+json": {
       "model_id": "c122e2a483314ac1bf0b25e828bffa89",
       "version_major": 2,
       "version_minor": 0
      },
      "text/plain": [
       "Calculating Metrics:   0%|          | 0/8 [00:00<?, ?it/s]"
      ]
     },
     "metadata": {},
     "output_type": "display_data"
    },
    {
     "name": "stdout",
     "output_type": "stream",
     "text": [
      "False False True\n"
     ]
    }
   ],
   "source": [
    "# Consistency Checks\n",
    "print(validator.expect_column_values_to_be_in_set(column =\"Bond Investments (y/n)\", value_set =[\"TRUE\", \"FALSE\"])[\"success\"],\\\n",
    "      validator.expect_column_values_to_be_in_set(column =\"Equities/Stocks (y/n)\", value_set =[\"TRUE\", \"FALSE\"])[\"success\"],\\\n",
    "      validator.expect_column_values_to_match_regex(column='Preferred Region of Investment', regex='^[^\\d]*$')[\"success\"]\n",
    "     )"
   ]
  },
  {
   "cell_type": "code",
   "execution_count": 23,
   "id": "2f90a85d-0cdf-4c3e-ba84-64d184f28a30",
   "metadata": {},
   "outputs": [
    {
     "data": {
      "application/vnd.jupyter.widget-view+json": {
       "model_id": "ee46bc1ec5cf4c2ab0a2bc4fd96d21f9",
       "version_major": 2,
       "version_minor": 0
      },
      "text/plain": [
       "Calculating Metrics:   0%|          | 0/8 [00:00<?, ?it/s]"
      ]
     },
     "metadata": {},
     "output_type": "display_data"
    },
    {
     "data": {
      "text/plain": [
       "{\n",
       "  \"success\": false,\n",
       "  \"result\": {\n",
       "    \"element_count\": 461,\n",
       "    \"unexpected_count\": 37,\n",
       "    \"unexpected_percent\": 8.026030368763557,\n",
       "    \"partial_unexpected_list\": [\n",
       "      \"I cannot provide real-time or the most recent financial investment decisions or strategies for specific companies, such as \\\"Pensioenfonds voor de Architectenbureaus,\\\" as my training data only includes information up to September 2021 You would need to check the most current sources or the company's official communications for their current investment holdings\",\n",
       "      \"False\",\n",
       "      \"False\",\n",
       "      \"False\",\n",
       "      \"I'm sorry, but as an AI, I do not have real-time or company-specific investment information such as whether Dow Pensioenfonds invests in bonds This information can change over time based on the investment decisions made by the pension fund's management You would have to check the latest financial reports or official statements from Dow Pensioenfonds for such information\",\n",
       "      \"False\",\n",
       "      \"I'm sorry, but I cannot provide real-time or the latest details on specific investment activities of companies such as Stichting De Samenwerking, Pensioenfonds voor het Slagersbedrijf My capabilities are based on information available up until early 2023, and I can't access or retrieve real-time data or confirm current investment strategies of specific entities Please consult the latest financial reports or the official website of the entity for the most accurate and updated information\",\n",
       "      \"Not enough information\",\n",
       "      \"False\",\n",
       "      \"I'm sorry, but I cannot provide a definitive one-word TRUE or FALSE answer without specific, updated information regarding Stichting Pensioenfonds Atos (SPA) and its investment strategies Pension funds like SPA often have diversified portfolios that may include bonds among other asset classes, but without current data, I cannot confirm the specifics of their investments\",\n",
       "      \"False\",\n",
       "      \"False\",\n",
       "      \"False\",\n",
       "      \"False\",\n",
       "      \"True\",\n",
       "      \"I cannot provide real-time or the most up-to-date information To determine if LALUX GROUP SA invests in bonds, please consult the company's official financial disclosures or contact them directly\",\n",
       "      \"False\",\n",
       "      \"I'm sorry, but I am unable to find current and specific investment information for the Nokia Corporate Pension in Belgium to say definitively whether they invest in bonds with just true or false Investment portfolios for pension funds can be quite diverse and can change over time based on various strategies and market conditions, so it would be necessary to look at the latest financial reports or official statements from the pension fund for accurate information\",\n",
       "      \"False\",\n",
       "      \"FALSE\\n\\n(Note: This answer is based on the fact that the assistant cannot definitively determine investment strategies for specific pension funds without updated information It is possible that Pensioenfonds voor het Bakkersbedrijf may have investments in bonds, but without current data, a true or false statement cannot be accurately provided)\"\n",
       "    ],\n",
       "    \"missing_count\": 0,\n",
       "    \"missing_percent\": 0.0,\n",
       "    \"unexpected_percent_total\": 8.026030368763557,\n",
       "    \"unexpected_percent_nonmissing\": 8.026030368763557\n",
       "  },\n",
       "  \"meta\": {},\n",
       "  \"exception_info\": {\n",
       "    \"raised_exception\": false,\n",
       "    \"exception_traceback\": null,\n",
       "    \"exception_message\": null\n",
       "  }\n",
       "}"
      ]
     },
     "execution_count": 23,
     "metadata": {},
     "output_type": "execute_result"
    }
   ],
   "source": [
    "validator.expect_column_values_to_be_in_set(column =\"Bond Investments (y/n)\", value_set =[\"TRUE\", \"FALSE\"])"
   ]
  }
 ],
 "metadata": {
  "kernelspec": {
   "display_name": "Python 3",
   "language": "python",
   "name": "python3"
  },
  "language_info": {
   "codemirror_mode": {
    "name": "ipython",
    "version": 3
   },
   "file_extension": ".py",
   "mimetype": "text/x-python",
   "name": "python",
   "nbconvert_exporter": "python",
   "pygments_lexer": "ipython3",
   "version": "3.8.5"
  }
 },
 "nbformat": 4,
 "nbformat_minor": 5
}
