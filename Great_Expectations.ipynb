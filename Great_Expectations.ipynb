{
 "cells": [
  {
   "cell_type": "code",
   "execution_count": 1,
   "id": "52282d23-00be-404c-bff2-62893adc493e",
   "metadata": {
    "scrolled": true
   },
   "outputs": [],
   "source": [
    "# Instalacja potrzebnych bibliotek\n",
    "# pip install great-expectations"
   ]
  },
  {
   "cell_type": "code",
   "execution_count": 2,
   "id": "37a78102-fa18-4a68-a232-96f8f298d07c",
   "metadata": {},
   "outputs": [],
   "source": [
    "# Importowanie potrzebnych bibliotek\n",
    "import great_expectations as gx"
   ]
  },
  {
   "cell_type": "code",
   "execution_count": 3,
   "id": "059b8c34-8e4b-4d1e-b5bc-4bc796948b61",
   "metadata": {},
   "outputs": [],
   "source": [
    "# Wczytanie danych wejściowych do dedykowanego walidatora\n",
    "\n",
    "context = gx.get_context()\n",
    "\n",
    "validator = context.sources.pandas_default.read_excel(\n",
    "    \"Analysis_input.xlsx\"\n",
    ")"
   ]
  },
  {
   "cell_type": "code",
   "execution_count": 4,
   "id": "8c54f37f-1285-4e8c-8db2-dbb21d88ef44",
   "metadata": {
    "tags": []
   },
   "outputs": [
    {
     "data": {
      "application/vnd.jupyter.widget-view+json": {
       "model_id": "af15613e974e40da9354e4fe7a04885d",
       "version_major": 2,
       "version_minor": 0
      },
      "text/plain": [
       "Calculating Metrics:   0%|          | 0/8 [00:00<?, ?it/s]"
      ]
     },
     "metadata": {},
     "output_type": "display_data"
    },
    {
     "data": {
      "application/vnd.jupyter.widget-view+json": {
       "model_id": "503fd0cd3eee4669ac746bc82202c20b",
       "version_major": 2,
       "version_minor": 0
      },
      "text/plain": [
       "Calculating Metrics:   0%|          | 0/8 [00:00<?, ?it/s]"
      ]
     },
     "metadata": {},
     "output_type": "display_data"
    },
    {
     "data": {
      "application/vnd.jupyter.widget-view+json": {
       "model_id": "b0635b71db6c42d0a57088a61b16f565",
       "version_major": 2,
       "version_minor": 0
      },
      "text/plain": [
       "Calculating Metrics:   0%|          | 0/8 [00:00<?, ?it/s]"
      ]
     },
     "metadata": {},
     "output_type": "display_data"
    },
    {
     "name": "stdout",
     "output_type": "stream",
     "text": [
      "True True False\n"
     ]
    }
   ],
   "source": [
    "# Accuracy Checks\n",
    "print(validator.expect_column_values_to_match_regex(column='Preferred Region of Investment', regex='^[^0-9@#$%^&*!()_+=~`{}|[\\]\\\\:\";<>?/]*$')[\"success\"],\\\n",
    "      validator.expect_column_values_to_be_in_set(column =\"List of origin\", value_set =[\"FoF infra+private equity\", \"P&I Benelux\", \"P&I CEE\"])[\"success\"],\\\n",
    "      validator.expect_column_values_to_be_in_set(column =\"Equities/Stocks (y/n)\", value_set =[\"TRUE\", \"FALSE\", \"true\", \"false\"])[\"success\"],\\\n",
    "     )"
   ]
  },
  {
   "cell_type": "code",
   "execution_count": 5,
   "id": "75ecd695-9423-4356-a6a0-ef70d8543f80",
   "metadata": {},
   "outputs": [
    {
     "data": {
      "application/vnd.jupyter.widget-view+json": {
       "model_id": "415b23a0004d461c8ff2694d694816b5",
       "version_major": 2,
       "version_minor": 0
      },
      "text/plain": [
       "Calculating Metrics:   0%|          | 0/8 [00:00<?, ?it/s]"
      ]
     },
     "metadata": {},
     "output_type": "display_data"
    },
    {
     "data": {
      "application/vnd.jupyter.widget-view+json": {
       "model_id": "963ec1a618524a588f3e31fb8410767e",
       "version_major": 2,
       "version_minor": 0
      },
      "text/plain": [
       "Calculating Metrics:   0%|          | 0/8 [00:00<?, ?it/s]"
      ]
     },
     "metadata": {},
     "output_type": "display_data"
    },
    {
     "data": {
      "application/vnd.jupyter.widget-view+json": {
       "model_id": "c98ec16036254050bfa7e61becba461a",
       "version_major": 2,
       "version_minor": 0
      },
      "text/plain": [
       "Calculating Metrics:   0%|          | 0/8 [00:00<?, ?it/s]"
      ]
     },
     "metadata": {},
     "output_type": "display_data"
    },
    {
     "name": "stdout",
     "output_type": "stream",
     "text": [
      "True False False\n"
     ]
    }
   ],
   "source": [
    "# Validity Checks\n",
    "print(validator.expect_column_values_to_be_in_set(column =\"List of origin\", value_set =[\"FoF infra+private equity\", \"P&I Benelux\", \"P&I CEE\"])[\"success\"],\\\n",
    "validator.expect_column_values_to_be_in_set(column =\"Bond Investments (y/n)\", value_set =[\"TRUE\", \"FALSE\"])[\"success\"],\\\n",
    "validator.expect_column_values_to_match_regex(column='Preferred Region of Investment', regex='^[^0-9@#$%^&*!()_+=~`{}|[\\]\\\\:\";\\'.<>?/]*$')[\"success\"]\n",
    "     )"
   ]
  },
  {
   "cell_type": "code",
   "execution_count": 6,
   "id": "9700da4c-d0cd-4113-b48a-71a73c1fa7c2",
   "metadata": {},
   "outputs": [
    {
     "data": {
      "application/vnd.jupyter.widget-view+json": {
       "model_id": "6346ebcb68604cc9bb080fbd6cd8a2f5",
       "version_major": 2,
       "version_minor": 0
      },
      "text/plain": [
       "Calculating Metrics:   0%|          | 0/8 [00:00<?, ?it/s]"
      ]
     },
     "metadata": {},
     "output_type": "display_data"
    },
    {
     "data": {
      "application/vnd.jupyter.widget-view+json": {
       "model_id": "9dbd739618fa4f9d8b274cc260a66623",
       "version_major": 2,
       "version_minor": 0
      },
      "text/plain": [
       "Calculating Metrics:   0%|          | 0/8 [00:00<?, ?it/s]"
      ]
     },
     "metadata": {},
     "output_type": "display_data"
    },
    {
     "name": "stdout",
     "output_type": "stream",
     "text": [
      "True False\n"
     ]
    }
   ],
   "source": [
    "# Uniqueness Checks\n",
    "print(validator.expect_column_values_to_be_unique(column='Account ID')[\"success\"],\\\n",
    "validator.expect_column_values_to_be_unique(column='Account Name')[\"success\"]\n",
    "     )"
   ]
  },
  {
   "cell_type": "code",
   "execution_count": 7,
   "id": "f7535ae0-e622-4f80-a1d4-01761dc5ee0e",
   "metadata": {},
   "outputs": [
    {
     "data": {
      "application/vnd.jupyter.widget-view+json": {
       "model_id": "f8b90521b29141b09a7d9fb215366828",
       "version_major": 2,
       "version_minor": 0
      },
      "text/plain": [
       "Calculating Metrics:   0%|          | 0/6 [00:00<?, ?it/s]"
      ]
     },
     "metadata": {},
     "output_type": "display_data"
    },
    {
     "data": {
      "application/vnd.jupyter.widget-view+json": {
       "model_id": "ee1c389111cd4d8cb7e0b7a157a15492",
       "version_major": 2,
       "version_minor": 0
      },
      "text/plain": [
       "Calculating Metrics:   0%|          | 0/6 [00:00<?, ?it/s]"
      ]
     },
     "metadata": {},
     "output_type": "display_data"
    },
    {
     "data": {
      "application/vnd.jupyter.widget-view+json": {
       "model_id": "b7c4d9e6948c427b9c1c6d4e9abdd0ed",
       "version_major": 2,
       "version_minor": 0
      },
      "text/plain": [
       "Calculating Metrics:   0%|          | 0/6 [00:00<?, ?it/s]"
      ]
     },
     "metadata": {},
     "output_type": "display_data"
    },
    {
     "data": {
      "application/vnd.jupyter.widget-view+json": {
       "model_id": "52c30f024cb74da6bdb592599cb48745",
       "version_major": 2,
       "version_minor": 0
      },
      "text/plain": [
       "Calculating Metrics:   0%|          | 0/6 [00:00<?, ?it/s]"
      ]
     },
     "metadata": {},
     "output_type": "display_data"
    },
    {
     "name": "stdout",
     "output_type": "stream",
     "text": [
      "False True True False\n"
     ]
    }
   ],
   "source": [
    "# Completeness Checks\n",
    "print(validator.expect_column_values_to_not_be_null(column='Account ID')[\"success\"],\\\n",
    "validator.expect_column_values_to_not_be_null(column='Account Name')[\"success\"],\\\n",
    "validator.expect_column_values_to_not_be_null(column='List of origin')[\"success\"],\\\n",
    "validator.expect_column_values_to_not_be_null(column='Preferred Region of Investment')[\"success\"]\n",
    "     )"
   ]
  },
  {
   "cell_type": "code",
   "execution_count": 8,
   "id": "747e7c8d-1349-415c-a649-a1121e77f080",
   "metadata": {},
   "outputs": [
    {
     "data": {
      "application/vnd.jupyter.widget-view+json": {
       "model_id": "e0f104d1843145668ea43d499777c353",
       "version_major": 2,
       "version_minor": 0
      },
      "text/plain": [
       "Calculating Metrics:   0%|          | 0/8 [00:00<?, ?it/s]"
      ]
     },
     "metadata": {},
     "output_type": "display_data"
    },
    {
     "data": {
      "application/vnd.jupyter.widget-view+json": {
       "model_id": "de4459ef09bf42daaea416673a19e7ae",
       "version_major": 2,
       "version_minor": 0
      },
      "text/plain": [
       "Calculating Metrics:   0%|          | 0/8 [00:00<?, ?it/s]"
      ]
     },
     "metadata": {},
     "output_type": "display_data"
    },
    {
     "data": {
      "application/vnd.jupyter.widget-view+json": {
       "model_id": "9c4acb16b2e041ba8292d4fe0d5b53af",
       "version_major": 2,
       "version_minor": 0
      },
      "text/plain": [
       "Calculating Metrics:   0%|          | 0/8 [00:00<?, ?it/s]"
      ]
     },
     "metadata": {},
     "output_type": "display_data"
    },
    {
     "name": "stdout",
     "output_type": "stream",
     "text": [
      "False False True\n"
     ]
    }
   ],
   "source": [
    "# Consistency Checks\n",
    "print(validator.expect_column_values_to_be_in_set(column =\"Bond Investments (y/n)\", value_set =[\"TRUE\", \"FALSE\"])[\"success\"],\\\n",
    "      validator.expect_column_values_to_be_in_set(column =\"Equities/Stocks (y/n)\", value_set =[\"TRUE\", \"FALSE\"])[\"success\"],\\\n",
    "      validator.expect_column_values_to_match_regex(column='Preferred Region of Investment', regex='^[^\\d]*$')[\"success\"]\n",
    "     )"
   ]
  }
 ],
 "metadata": {
  "kernelspec": {
   "display_name": "Python 3",
   "language": "python",
   "name": "python3"
  },
  "language_info": {
   "codemirror_mode": {
    "name": "ipython",
    "version": 3
   },
   "file_extension": ".py",
   "mimetype": "text/x-python",
   "name": "python",
   "nbconvert_exporter": "python",
   "pygments_lexer": "ipython3",
   "version": "3.8.5"
  }
 },
 "nbformat": 4,
 "nbformat_minor": 5
}
